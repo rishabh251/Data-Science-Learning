{
 "cells": [
  {
   "cell_type": "markdown",
   "id": "36226d14-54d6-410e-af38-5b5377135db1",
   "metadata": {},
   "source": [
    "# Data Science Tools And Echosystem"
   ]
  },
  {
   "cell_type": "markdown",
   "id": "b122a7e5-d1df-467e-99c5-d3c5d25be913",
   "metadata": {},
   "source": [
    "In this notebook, Data Science Tools and Ecosystem are summarized"
   ]
  },
  {
   "cell_type": "markdown",
   "id": "050cfa1c-78b0-411c-ad9d-be961d71eede",
   "metadata": {},
   "source": [
    "### Objectives: V's of Big data\n",
    "* Variety\n",
    "* Veracity\n",
    "* Velocity\n",
    "* Volume\n",
    "* Value"
   ]
  },
  {
   "cell_type": "markdown",
   "id": "e9478253-242e-4c39-97c8-661559898bac",
   "metadata": {},
   "source": [
    "Some of the popular languages that Data Scientists use are:\n",
    "\n",
    "1. Python\n",
    "2. SQL\n",
    "3. R"
   ]
  },
  {
   "cell_type": "markdown",
   "id": "ea96fcbd-dbe7-41c9-8b3d-a6cf8ee753a8",
   "metadata": {},
   "source": [
    "Some of the commonly used libraries used by Data Scientists include:\n",
    "\n",
    "1. Matplotlib\n",
    "2. Seaborn\n",
    "3. Pandas\n",
    "4. NumPy\n",
    "5. ggplot2\n",
    "6. dplyr"
   ]
  },
  {
   "cell_type": "code",
   "execution_count": null,
   "id": "e991e61b-48b2-4000-88c4-10c8dc1f6410",
   "metadata": {},
   "outputs": [],
   "source": [
    "| Data Science Tools |\n",
    "|--------------------|\n",
    "| Jupyter Notebook   |\n",
    "| RStudio            |\n",
    "| JupyterLab         |"
   ]
  },
  {
   "cell_type": "markdown",
   "id": "e477cc73-8c3a-4c67-89df-44b3855fe5c1",
   "metadata": {},
   "source": [
    "### Below are a few examples of evaluating arithmetic expressions in Python"
   ]
  },
  {
   "cell_type": "code",
   "execution_count": 2,
   "id": "d5804821-4df5-4e99-94ee-cc06157f0361",
   "metadata": {},
   "outputs": [
    {
     "data": {
      "text/plain": [
       "17"
      ]
     },
     "execution_count": 2,
     "metadata": {},
     "output_type": "execute_result"
    }
   ],
   "source": [
    "#This a simple arithmetic expression to mutiply then add integers\n",
    "\n",
    "(3*4)+5"
   ]
  },
  {
   "cell_type": "code",
   "execution_count": 6,
   "id": "300beef2-e9e8-4748-9851-c8f5866d33b9",
   "metadata": {},
   "outputs": [
    {
     "name": "stdout",
     "output_type": "stream",
     "text": [
      "3.3333333333333335 hours\n"
     ]
    }
   ],
   "source": [
    "#This will convert 200 minutes to hours\n",
    "\n",
    "minutestohours = 200/60\n",
    "print(minutestohours , \"hours\")"
   ]
  },
  {
   "cell_type": "markdown",
   "id": "dae4ff58-7ee9-4dd2-8343-9c276f3fe9db",
   "metadata": {},
   "source": [
    "## Author - IBM Skills Network Team\n",
    "## my name - Rishabh Kumar Sahu"
   ]
  }
 ],
 "metadata": {
  "kernelspec": {
   "display_name": "Python 3 (ipykernel)",
   "language": "python",
   "name": "python3"
  },
  "language_info": {
   "codemirror_mode": {
    "name": "ipython",
    "version": 3
   },
   "file_extension": ".py",
   "mimetype": "text/x-python",
   "name": "python",
   "nbconvert_exporter": "python",
   "pygments_lexer": "ipython3",
   "version": "3.12.1"
  }
 },
 "nbformat": 4,
 "nbformat_minor": 5
}
